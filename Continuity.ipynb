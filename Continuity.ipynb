{
  "nbformat": 4,
  "nbformat_minor": 0,
  "metadata": {
    "colab": {
      "provenance": [],
      "authorship_tag": "ABX9TyPHA6Ercjsg435cnlaVf7q3"
    },
    "kernelspec": {
      "name": "python3",
      "display_name": "Python 3"
    },
    "language_info": {
      "name": "python"
    }
  },
  "cells": [
    {
      "cell_type": "code",
      "execution_count": null,
      "metadata": {
        "colab": {
          "base_uri": "https://localhost:8080/"
        },
        "id": "qCqRiwuEcnP7",
        "outputId": "c45bba1d-ba16-4501-846d-b3ba40579975"
      },
      "outputs": [
        {
          "output_type": "stream",
          "name": "stdout",
          "text": [
            "Drive already mounted at /content/gdrive; to attempt to forcibly remount, call drive.mount(\"/content/gdrive\", force_remount=True).\n"
          ]
        }
      ],
      "source": [
        "from google.colab import drive\n",
        "drive.mount('/content/gdrive')"
      ]
    },
    {
      "cell_type": "code",
      "source": [
        "import cv2\n",
        "import numpy as np"
      ],
      "metadata": {
        "id": "I4DrmLvT-e_-"
      },
      "execution_count": null,
      "outputs": []
    },
    {
      "cell_type": "code",
      "source": [
        "import matplotlib.pyplot as plt"
      ],
      "metadata": {
        "id": "s7An9QS9_URI"
      },
      "execution_count": null,
      "outputs": []
    },
    {
      "cell_type": "code",
      "source": [
        "video_path = '/content/gdrive/MyDrive/V123.mp4'"
      ],
      "metadata": {
        "id": "OmThbmMOdCvD"
      },
      "execution_count": null,
      "outputs": []
    },
    {
      "cell_type": "code",
      "source": [
        "cap = cv2.VideoCapture(video_path)\n",
        "if not cap.isOpened():\n",
        "    print(\"> Error opening video file.\")"
      ],
      "metadata": {
        "id": "-I-22T2w-oUg"
      },
      "execution_count": null,
      "outputs": []
    },
    {
      "cell_type": "code",
      "source": [
        "frame_count = 0\n",
        "euclidean_distance = []\n",
        "while True:\n",
        "    ret0, frame0 = cap.read()\n",
        "    if not ret0:\n",
        "        print(\"> End of video.\")\n",
        "        break\n",
        "    ret1, frame1 = cap.read()\n",
        "    if not ret1:\n",
        "        print(\"> End of video.\")\n",
        "        break\n",
        "    frame_count += 2\n",
        "    distance = np.linalg.norm(frame0 - frame1) / 100000\n",
        "    euclidean_distance.append(distance)\n",
        "cap.release()"
      ],
      "metadata": {
        "colab": {
          "base_uri": "https://localhost:8080/"
        },
        "id": "5tjJ8fj_-qwF",
        "outputId": "7a9b9008-e710-49e2-c9ce-1b2b6c52076c"
      },
      "execution_count": null,
      "outputs": [
        {
          "output_type": "stream",
          "name": "stdout",
          "text": [
            "> End of video.\n"
          ]
        }
      ]
    },
    {
      "cell_type": "code",
      "source": [
        "frame_count"
      ],
      "metadata": {
        "colab": {
          "base_uri": "https://localhost:8080/"
        },
        "id": "Lol5PsQVIDlT",
        "outputId": "56526ec1-666b-4302-9e5e-7802e7a549af"
      },
      "execution_count": null,
      "outputs": [
        {
          "output_type": "execute_result",
          "data": {
            "text/plain": [
              "19100"
            ]
          },
          "metadata": {},
          "execution_count": 20
        }
      ]
    },
    {
      "cell_type": "code",
      "source": [
        "plt.plot(euclidean_distance)\n",
        "plt.xlabel('# Frame')\n",
        "plt.ylabel('Distancia')\n",
        "plt.show()\n",
        "# MOSTRAR PICOS"
      ],
      "metadata": {
        "colab": {
          "base_uri": "https://localhost:8080/",
          "height": 449
        },
        "id": "8qRmOzWA_fO9",
        "outputId": "d638e6f9-7fcc-4802-b2f7-76f135bf0460"
      },
      "execution_count": null,
      "outputs": [
        {
          "output_type": "display_data",
          "data": {
            "text/plain": [
              "<Figure size 640x480 with 1 Axes>"
            ],
            "image/png": "[encoded data removed]"
          },
          "metadata": {}
        }
      ]
    }
  ]
}