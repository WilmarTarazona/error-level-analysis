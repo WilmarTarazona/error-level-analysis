{
  "nbformat": 4,
  "nbformat_minor": 0,
  "metadata": {
    "colab": {
      "provenance": [],
      "authorship_tag": "ABX9TyOd6xs4OCr5JXMVKcrB6Z+T"
    },
    "kernelspec": {
      "name": "python3",
      "display_name": "Python 3"
    },
    "language_info": {
      "name": "python"
    }
  },
  "cells": [
    {
      "cell_type": "code",
      "execution_count": null,
      "metadata": {
        "colab": {
          "base_uri": "https://localhost:8080/"
        },
        "id": "UvkQIK1lxy6y",
        "outputId": "c34c52e0-b962-4256-b7d6-aa81b7b3a2b1"
      },
      "outputs": [
        {
          "output_type": "stream",
          "name": "stdout",
          "text": [
            "Mounted at /content/gdrive\n"
          ]
        }
      ],
      "source": [
        "from google.colab import drive\n",
        "drive.mount('/content/gdrive')"
      ]
    },
    {
      "cell_type": "code",
      "source": [
        "import cv2\n",
        "import numpy as np\n",
        "import matplotlib.pyplot as plt\n",
        "from google.colab.patches import cv2_imshow"
      ],
      "metadata": {
        "id": "bGfW6IHOx7sZ"
      },
      "execution_count": 285,
      "outputs": []
    },
    {
      "cell_type": "code",
      "source": [
        "video_path = '/content/gdrive/MyDrive/V123.mp4'"
      ],
      "metadata": {
        "id": "NnA1xlggzNV_"
      },
      "execution_count": null,
      "outputs": []
    },
    {
      "cell_type": "code",
      "source": [
        "def ela_analysis(frame, SCALE = 40, QUALITY = 75):\n",
        "  _, compressed_image_buffer = cv2.imencode('.jpg', frame, [int(cv2.IMWRITE_JPEG_QUALITY), QUALITY])\n",
        "  compressed_image = cv2.imdecode(compressed_image_buffer, 1)\n",
        "\n",
        "  diff = np.abs(frame.astype(np.float32) - compressed_image.astype(np.float32)) * SCALE\n",
        "  output_image = diff.astype(np.uint8)\n",
        "\n",
        "  gray_output = cv2.cvtColor(output_image, cv2.COLOR_BGR2GRAY)\n",
        "  _, thresh = cv2.threshold(gray_output, 50, 255, cv2.THRESH_BINARY)\n",
        "  contours, _ = cv2.findContours(thresh, cv2.RETR_EXTERNAL, cv2.CHAIN_APPROX_SIMPLE)\n",
        "\n",
        "  for contour in contours:\n",
        "    if cv2.contourArea(contour) >  2500:\n",
        "      x, y, w, h = cv2.boundingRect(contour)\n",
        "      cv2.rectangle(output_image, (x, y), (x + w, y + h), (0, 0, 255), 2)\n",
        "  return output_image"
      ],
      "metadata": {
        "id": "aNS-Zrnju3r8"
      },
      "execution_count": 346,
      "outputs": []
    },
    {
      "cell_type": "code",
      "source": [
        "cap = cv2.VideoCapture(video_path)\n",
        "if not cap.isOpened():\n",
        "    print(\"> Error opening video file.\")\n",
        "\n",
        "frame_count = 0\n",
        "images = []\n",
        "fps = cap.get(cv2.CAP_PROP_FPS)\n",
        "\n",
        "while True:\n",
        "  ret, frame = cap.read()\n",
        "  if not ret:\n",
        "    print(\"> End of video.\")\n",
        "    break\n",
        "\n",
        "  if frame_count % fps == 0:\n",
        "    output_image = ela_analysis(frame)\n",
        "    images.append(output_image)\n",
        "  frame_count += 1\n",
        "\n",
        "cap.release()"
      ],
      "metadata": {
        "id": "Oi8CEz2NzSFa",
        "colab": {
          "base_uri": "https://localhost:8080/"
        },
        "outputId": "73d01844-954b-4f10-a7f7-95ce36438492"
      },
      "execution_count": 347,
      "outputs": [
        {
          "output_type": "stream",
          "name": "stdout",
          "text": [
            "> End of video.\n"
          ]
        }
      ]
    },
    {
      "cell_type": "code",
      "source": [
        "len(images)"
      ],
      "metadata": {
        "colab": {
          "base_uri": "https://localhost:8080/"
        },
        "id": "Y67bombE7bxr",
        "outputId": "acfcfa12-6d1b-48fa-ab2f-babdde0b6412"
      },
      "execution_count": 348,
      "outputs": [
        {
          "output_type": "execute_result",
          "data": {
            "text/plain": [
              "956"
            ]
          },
          "metadata": {},
          "execution_count": 348
        }
      ]
    }
  ]
}